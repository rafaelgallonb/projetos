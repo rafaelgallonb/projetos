{
 "cells": [
  {
   "cell_type": "markdown",
   "metadata": {},
   "source": [
    "# <font color='blue'>Formação Analista de Dados [FADA] - Data Science Academy</font>\n",
    "# <font color='blue'>Análise de Dados com Linguagem Python</font>\n",
    "\n",
    "## <font color='blue'>Projeto 10 - Design e Construção de 50 Visualizações</font>\n",
    "## <font color='blue'>Visualizações de 44 a 50</font>"
   ]
  },
  {
   "cell_type": "markdown",
   "metadata": {},
   "source": [
    "### Definição do Problema e Fonte de Dados\n",
    "\n",
    "Neste mini-projeto o objetivo será analisar dados sobre o padrão de compras de consumidores em um Shopping Center."
   ]
  },
  {
   "cell_type": "markdown",
   "metadata": {},
   "source": [
    "## Instalando e Carregando os Pacotes"
   ]
  },
  {
   "cell_type": "code",
   "execution_count": 1,
   "metadata": {},
   "outputs": [],
   "source": [
    "# Imports\n",
    "import pandas as pd \n",
    "import numpy as np \n",
    "import matplotlib.pyplot as plt \n",
    "import seaborn as sns\n",
    "import warnings\n",
    "warnings.filterwarnings('ignore')\n",
    "%matplotlib inline "
   ]
  },
  {
   "cell_type": "code",
   "execution_count": 2,
   "metadata": {},
   "outputs": [],
   "source": [
    "df = pd.read_csv(\"dados/dataset7.csv\")"
   ]
  },
  {
   "cell_type": "code",
   "execution_count": 3,
   "metadata": {},
   "outputs": [
    {
     "data": {
      "text/plain": [
       "(2240, 28)"
      ]
     },
     "execution_count": 3,
     "metadata": {},
     "output_type": "execute_result"
    }
   ],
   "source": [
    "df.shape"
   ]
  },
  {
   "cell_type": "code",
   "execution_count": 4,
   "metadata": {},
   "outputs": [],
   "source": [
    "pd.options.display.max_columns = df.shape[1]"
   ]
  },
  {
   "cell_type": "code",
   "execution_count": 5,
   "metadata": {},
   "outputs": [
    {
     "data": {
      "text/html": [
       "<div>\n",
       "<style scoped>\n",
       "    .dataframe tbody tr th:only-of-type {\n",
       "        vertical-align: middle;\n",
       "    }\n",
       "\n",
       "    .dataframe tbody tr th {\n",
       "        vertical-align: top;\n",
       "    }\n",
       "\n",
       "    .dataframe thead th {\n",
       "        text-align: right;\n",
       "    }\n",
       "</style>\n",
       "<table border=\"1\" class=\"dataframe\">\n",
       "  <thead>\n",
       "    <tr style=\"text-align: right;\">\n",
       "      <th></th>\n",
       "      <th>ID</th>\n",
       "      <th>Year_Birth</th>\n",
       "      <th>Education</th>\n",
       "      <th>Marital_Status</th>\n",
       "      <th>Income</th>\n",
       "      <th>Kidhome</th>\n",
       "      <th>Teenhome</th>\n",
       "      <th>Dt_Customer</th>\n",
       "      <th>Recency</th>\n",
       "      <th>MntWines</th>\n",
       "      <th>MntFruits</th>\n",
       "      <th>MntMeatProducts</th>\n",
       "      <th>MntFishProducts</th>\n",
       "      <th>MntSweetProducts</th>\n",
       "      <th>MntGoldProds</th>\n",
       "      <th>NumDealsPurchases</th>\n",
       "      <th>NumWebPurchases</th>\n",
       "      <th>NumCatalogPurchases</th>\n",
       "      <th>NumStorePurchases</th>\n",
       "      <th>NumWebVisitsMonth</th>\n",
       "      <th>AcceptedCmp3</th>\n",
       "      <th>AcceptedCmp4</th>\n",
       "      <th>AcceptedCmp5</th>\n",
       "      <th>AcceptedCmp1</th>\n",
       "      <th>AcceptedCmp2</th>\n",
       "      <th>Response</th>\n",
       "      <th>Complain</th>\n",
       "      <th>Country</th>\n",
       "    </tr>\n",
       "  </thead>\n",
       "  <tbody>\n",
       "    <tr>\n",
       "      <th>0</th>\n",
       "      <td>1826</td>\n",
       "      <td>1970</td>\n",
       "      <td>Graduation</td>\n",
       "      <td>Divorced</td>\n",
       "      <td>$84,835.00</td>\n",
       "      <td>0</td>\n",
       "      <td>0</td>\n",
       "      <td>6/16/14</td>\n",
       "      <td>0</td>\n",
       "      <td>189</td>\n",
       "      <td>104</td>\n",
       "      <td>379</td>\n",
       "      <td>111</td>\n",
       "      <td>189</td>\n",
       "      <td>218</td>\n",
       "      <td>1</td>\n",
       "      <td>4</td>\n",
       "      <td>4</td>\n",
       "      <td>6</td>\n",
       "      <td>1</td>\n",
       "      <td>0</td>\n",
       "      <td>0</td>\n",
       "      <td>0</td>\n",
       "      <td>0</td>\n",
       "      <td>0</td>\n",
       "      <td>1</td>\n",
       "      <td>0</td>\n",
       "      <td>SP</td>\n",
       "    </tr>\n",
       "    <tr>\n",
       "      <th>1</th>\n",
       "      <td>1</td>\n",
       "      <td>1961</td>\n",
       "      <td>Graduation</td>\n",
       "      <td>Single</td>\n",
       "      <td>$57,091.00</td>\n",
       "      <td>0</td>\n",
       "      <td>0</td>\n",
       "      <td>6/15/14</td>\n",
       "      <td>0</td>\n",
       "      <td>464</td>\n",
       "      <td>5</td>\n",
       "      <td>64</td>\n",
       "      <td>7</td>\n",
       "      <td>0</td>\n",
       "      <td>37</td>\n",
       "      <td>1</td>\n",
       "      <td>7</td>\n",
       "      <td>3</td>\n",
       "      <td>7</td>\n",
       "      <td>5</td>\n",
       "      <td>0</td>\n",
       "      <td>0</td>\n",
       "      <td>0</td>\n",
       "      <td>0</td>\n",
       "      <td>1</td>\n",
       "      <td>1</td>\n",
       "      <td>0</td>\n",
       "      <td>CA</td>\n",
       "    </tr>\n",
       "    <tr>\n",
       "      <th>2</th>\n",
       "      <td>10476</td>\n",
       "      <td>1958</td>\n",
       "      <td>Graduation</td>\n",
       "      <td>Married</td>\n",
       "      <td>$67,267.00</td>\n",
       "      <td>0</td>\n",
       "      <td>1</td>\n",
       "      <td>5/13/14</td>\n",
       "      <td>0</td>\n",
       "      <td>134</td>\n",
       "      <td>11</td>\n",
       "      <td>59</td>\n",
       "      <td>15</td>\n",
       "      <td>2</td>\n",
       "      <td>30</td>\n",
       "      <td>1</td>\n",
       "      <td>3</td>\n",
       "      <td>2</td>\n",
       "      <td>5</td>\n",
       "      <td>2</td>\n",
       "      <td>0</td>\n",
       "      <td>0</td>\n",
       "      <td>0</td>\n",
       "      <td>0</td>\n",
       "      <td>0</td>\n",
       "      <td>0</td>\n",
       "      <td>0</td>\n",
       "      <td>US</td>\n",
       "    </tr>\n",
       "    <tr>\n",
       "      <th>3</th>\n",
       "      <td>1386</td>\n",
       "      <td>1967</td>\n",
       "      <td>Graduation</td>\n",
       "      <td>Together</td>\n",
       "      <td>$32,474.00</td>\n",
       "      <td>1</td>\n",
       "      <td>1</td>\n",
       "      <td>5/11/14</td>\n",
       "      <td>0</td>\n",
       "      <td>10</td>\n",
       "      <td>0</td>\n",
       "      <td>1</td>\n",
       "      <td>0</td>\n",
       "      <td>0</td>\n",
       "      <td>0</td>\n",
       "      <td>1</td>\n",
       "      <td>1</td>\n",
       "      <td>0</td>\n",
       "      <td>2</td>\n",
       "      <td>7</td>\n",
       "      <td>0</td>\n",
       "      <td>0</td>\n",
       "      <td>0</td>\n",
       "      <td>0</td>\n",
       "      <td>0</td>\n",
       "      <td>0</td>\n",
       "      <td>0</td>\n",
       "      <td>AUS</td>\n",
       "    </tr>\n",
       "    <tr>\n",
       "      <th>4</th>\n",
       "      <td>5371</td>\n",
       "      <td>1989</td>\n",
       "      <td>Graduation</td>\n",
       "      <td>Single</td>\n",
       "      <td>$21,474.00</td>\n",
       "      <td>1</td>\n",
       "      <td>0</td>\n",
       "      <td>4/8/14</td>\n",
       "      <td>0</td>\n",
       "      <td>6</td>\n",
       "      <td>16</td>\n",
       "      <td>24</td>\n",
       "      <td>11</td>\n",
       "      <td>0</td>\n",
       "      <td>34</td>\n",
       "      <td>2</td>\n",
       "      <td>3</td>\n",
       "      <td>1</td>\n",
       "      <td>2</td>\n",
       "      <td>7</td>\n",
       "      <td>1</td>\n",
       "      <td>0</td>\n",
       "      <td>0</td>\n",
       "      <td>0</td>\n",
       "      <td>0</td>\n",
       "      <td>1</td>\n",
       "      <td>0</td>\n",
       "      <td>SP</td>\n",
       "    </tr>\n",
       "  </tbody>\n",
       "</table>\n",
       "</div>"
      ],
      "text/plain": [
       "      ID  Year_Birth   Education Marital_Status      Income   Kidhome  \\\n",
       "0   1826        1970  Graduation       Divorced  $84,835.00         0   \n",
       "1      1        1961  Graduation         Single  $57,091.00         0   \n",
       "2  10476        1958  Graduation        Married  $67,267.00         0   \n",
       "3   1386        1967  Graduation       Together  $32,474.00         1   \n",
       "4   5371        1989  Graduation         Single  $21,474.00         1   \n",
       "\n",
       "   Teenhome Dt_Customer  Recency  MntWines  MntFruits  MntMeatProducts  \\\n",
       "0         0     6/16/14        0       189        104              379   \n",
       "1         0     6/15/14        0       464          5               64   \n",
       "2         1     5/13/14        0       134         11               59   \n",
       "3         1     5/11/14        0        10          0                1   \n",
       "4         0      4/8/14        0         6         16               24   \n",
       "\n",
       "   MntFishProducts  MntSweetProducts  MntGoldProds  NumDealsPurchases  \\\n",
       "0              111               189           218                  1   \n",
       "1                7                 0            37                  1   \n",
       "2               15                 2            30                  1   \n",
       "3                0                 0             0                  1   \n",
       "4               11                 0            34                  2   \n",
       "\n",
       "   NumWebPurchases  NumCatalogPurchases  NumStorePurchases  NumWebVisitsMonth  \\\n",
       "0                4                    4                  6                  1   \n",
       "1                7                    3                  7                  5   \n",
       "2                3                    2                  5                  2   \n",
       "3                1                    0                  2                  7   \n",
       "4                3                    1                  2                  7   \n",
       "\n",
       "   AcceptedCmp3  AcceptedCmp4  AcceptedCmp5  AcceptedCmp1  AcceptedCmp2  \\\n",
       "0             0             0             0             0             0   \n",
       "1             0             0             0             0             1   \n",
       "2             0             0             0             0             0   \n",
       "3             0             0             0             0             0   \n",
       "4             1             0             0             0             0   \n",
       "\n",
       "   Response  Complain Country  \n",
       "0         1         0      SP  \n",
       "1         1         0      CA  \n",
       "2         0         0      US  \n",
       "3         0         0     AUS  \n",
       "4         1         0      SP  "
      ]
     },
     "execution_count": 5,
     "metadata": {},
     "output_type": "execute_result"
    }
   ],
   "source": [
    "df.head()"
   ]
  },
  {
   "cell_type": "code",
   "execution_count": 6,
   "metadata": {},
   "outputs": [],
   "source": [
    "df.rename({' Income ':'Income'}, axis = 1, inplace = True)\n",
    "df['Income'] = df['Income'].str.replace('$','').str.replace(',','').astype(float)"
   ]
  },
  {
   "cell_type": "code",
   "execution_count": 7,
   "metadata": {},
   "outputs": [
    {
     "data": {
      "text/plain": [
       "ID                      0\n",
       "Year_Birth              0\n",
       "Education               0\n",
       "Marital_Status          0\n",
       "Income                 24\n",
       "Kidhome                 0\n",
       "Teenhome                0\n",
       "Dt_Customer             0\n",
       "Recency                 0\n",
       "MntWines                0\n",
       "MntFruits               0\n",
       "MntMeatProducts         0\n",
       "MntFishProducts         0\n",
       "MntSweetProducts        0\n",
       "MntGoldProds            0\n",
       "NumDealsPurchases       0\n",
       "NumWebPurchases         0\n",
       "NumCatalogPurchases     0\n",
       "NumStorePurchases       0\n",
       "NumWebVisitsMonth       0\n",
       "AcceptedCmp3            0\n",
       "AcceptedCmp4            0\n",
       "AcceptedCmp5            0\n",
       "AcceptedCmp1            0\n",
       "AcceptedCmp2            0\n",
       "Response                0\n",
       "Complain                0\n",
       "Country                 0\n",
       "dtype: int64"
      ]
     },
     "execution_count": 7,
     "metadata": {},
     "output_type": "execute_result"
    }
   ],
   "source": [
    "df.isnull().sum()"
   ]
  },
  {
   "cell_type": "code",
   "execution_count": 8,
   "metadata": {},
   "outputs": [],
   "source": [
    "df['Income'].fillna(df['Income'].mean(), inplace = True)"
   ]
  },
  {
   "cell_type": "code",
   "execution_count": 9,
   "metadata": {},
   "outputs": [
    {
     "name": "stdout",
     "output_type": "stream",
     "text": [
      "<class 'pandas.core.frame.DataFrame'>\n",
      "RangeIndex: 2240 entries, 0 to 2239\n",
      "Data columns (total 28 columns):\n",
      " #   Column               Non-Null Count  Dtype  \n",
      "---  ------               --------------  -----  \n",
      " 0   ID                   2240 non-null   int64  \n",
      " 1   Year_Birth           2240 non-null   int64  \n",
      " 2   Education            2240 non-null   object \n",
      " 3   Marital_Status       2240 non-null   object \n",
      " 4   Income               2240 non-null   float64\n",
      " 5   Kidhome              2240 non-null   int64  \n",
      " 6   Teenhome             2240 non-null   int64  \n",
      " 7   Dt_Customer          2240 non-null   object \n",
      " 8   Recency              2240 non-null   int64  \n",
      " 9   MntWines             2240 non-null   int64  \n",
      " 10  MntFruits            2240 non-null   int64  \n",
      " 11  MntMeatProducts      2240 non-null   int64  \n",
      " 12  MntFishProducts      2240 non-null   int64  \n",
      " 13  MntSweetProducts     2240 non-null   int64  \n",
      " 14  MntGoldProds         2240 non-null   int64  \n",
      " 15  NumDealsPurchases    2240 non-null   int64  \n",
      " 16  NumWebPurchases      2240 non-null   int64  \n",
      " 17  NumCatalogPurchases  2240 non-null   int64  \n",
      " 18  NumStorePurchases    2240 non-null   int64  \n",
      " 19  NumWebVisitsMonth    2240 non-null   int64  \n",
      " 20  AcceptedCmp3         2240 non-null   int64  \n",
      " 21  AcceptedCmp4         2240 non-null   int64  \n",
      " 22  AcceptedCmp5         2240 non-null   int64  \n",
      " 23  AcceptedCmp1         2240 non-null   int64  \n",
      " 24  AcceptedCmp2         2240 non-null   int64  \n",
      " 25  Response             2240 non-null   int64  \n",
      " 26  Complain             2240 non-null   int64  \n",
      " 27  Country              2240 non-null   object \n",
      "dtypes: float64(1), int64(23), object(4)\n",
      "memory usage: 490.1+ KB\n"
     ]
    }
   ],
   "source": [
    "df.info()"
   ]
  },
  {
   "cell_type": "code",
   "execution_count": 10,
   "metadata": {},
   "outputs": [],
   "source": [
    "df['Dt_Customer'] = pd.to_datetime(df['Dt_Customer'])"
   ]
  },
  {
   "cell_type": "code",
   "execution_count": 11,
   "metadata": {},
   "outputs": [],
   "source": [
    "df['Customer_age'] = df['Dt_Customer'].dt.year - df['Year_Birth']"
   ]
  },
  {
   "cell_type": "code",
   "execution_count": 12,
   "metadata": {},
   "outputs": [],
   "source": [
    "df['Grupo_Etario_Clientes'] = pd.cut(df.Customer_age, bins = [0,25,50,150], labels = ['Jovem', 'Adulto', 'Idoso'])"
   ]
  },
  {
   "cell_type": "code",
   "execution_count": 13,
   "metadata": {},
   "outputs": [],
   "source": [
    "df['Total_Purchases'] = df['NumDealsPurchases']+df['NumWebPurchases']+df['NumCatalogPurchases']+df['NumStorePurchases']"
   ]
  },
  {
   "cell_type": "code",
   "execution_count": 14,
   "metadata": {},
   "outputs": [],
   "source": [
    "df['Children'] = df['Kidhome']+df['Teenhome']"
   ]
  },
  {
   "cell_type": "code",
   "execution_count": 15,
   "metadata": {},
   "outputs": [
    {
     "data": {
      "text/html": [
       "<div>\n",
       "<style scoped>\n",
       "    .dataframe tbody tr th:only-of-type {\n",
       "        vertical-align: middle;\n",
       "    }\n",
       "\n",
       "    .dataframe tbody tr th {\n",
       "        vertical-align: top;\n",
       "    }\n",
       "\n",
       "    .dataframe thead th {\n",
       "        text-align: right;\n",
       "    }\n",
       "</style>\n",
       "<table border=\"1\" class=\"dataframe\">\n",
       "  <thead>\n",
       "    <tr style=\"text-align: right;\">\n",
       "      <th></th>\n",
       "      <th>ID</th>\n",
       "      <th>Year_Birth</th>\n",
       "      <th>Education</th>\n",
       "      <th>Marital_Status</th>\n",
       "      <th>Income</th>\n",
       "      <th>Kidhome</th>\n",
       "      <th>Teenhome</th>\n",
       "      <th>Dt_Customer</th>\n",
       "      <th>Recency</th>\n",
       "      <th>MntWines</th>\n",
       "      <th>MntFruits</th>\n",
       "      <th>MntMeatProducts</th>\n",
       "      <th>MntFishProducts</th>\n",
       "      <th>MntSweetProducts</th>\n",
       "      <th>...</th>\n",
       "      <th>NumStorePurchases</th>\n",
       "      <th>NumWebVisitsMonth</th>\n",
       "      <th>AcceptedCmp3</th>\n",
       "      <th>AcceptedCmp4</th>\n",
       "      <th>AcceptedCmp5</th>\n",
       "      <th>AcceptedCmp1</th>\n",
       "      <th>AcceptedCmp2</th>\n",
       "      <th>Response</th>\n",
       "      <th>Complain</th>\n",
       "      <th>Country</th>\n",
       "      <th>Customer_age</th>\n",
       "      <th>Grupo_Etario_Clientes</th>\n",
       "      <th>Total_Purchases</th>\n",
       "      <th>Children</th>\n",
       "    </tr>\n",
       "  </thead>\n",
       "  <tbody>\n",
       "    <tr>\n",
       "      <th>0</th>\n",
       "      <td>1826</td>\n",
       "      <td>1970</td>\n",
       "      <td>Graduation</td>\n",
       "      <td>Divorced</td>\n",
       "      <td>84835.0</td>\n",
       "      <td>0</td>\n",
       "      <td>0</td>\n",
       "      <td>2014-06-16</td>\n",
       "      <td>0</td>\n",
       "      <td>189</td>\n",
       "      <td>104</td>\n",
       "      <td>379</td>\n",
       "      <td>111</td>\n",
       "      <td>189</td>\n",
       "      <td>...</td>\n",
       "      <td>6</td>\n",
       "      <td>1</td>\n",
       "      <td>0</td>\n",
       "      <td>0</td>\n",
       "      <td>0</td>\n",
       "      <td>0</td>\n",
       "      <td>0</td>\n",
       "      <td>1</td>\n",
       "      <td>0</td>\n",
       "      <td>SP</td>\n",
       "      <td>44</td>\n",
       "      <td>Adulto</td>\n",
       "      <td>15</td>\n",
       "      <td>0</td>\n",
       "    </tr>\n",
       "    <tr>\n",
       "      <th>1</th>\n",
       "      <td>1</td>\n",
       "      <td>1961</td>\n",
       "      <td>Graduation</td>\n",
       "      <td>Single</td>\n",
       "      <td>57091.0</td>\n",
       "      <td>0</td>\n",
       "      <td>0</td>\n",
       "      <td>2014-06-15</td>\n",
       "      <td>0</td>\n",
       "      <td>464</td>\n",
       "      <td>5</td>\n",
       "      <td>64</td>\n",
       "      <td>7</td>\n",
       "      <td>0</td>\n",
       "      <td>...</td>\n",
       "      <td>7</td>\n",
       "      <td>5</td>\n",
       "      <td>0</td>\n",
       "      <td>0</td>\n",
       "      <td>0</td>\n",
       "      <td>0</td>\n",
       "      <td>1</td>\n",
       "      <td>1</td>\n",
       "      <td>0</td>\n",
       "      <td>CA</td>\n",
       "      <td>53</td>\n",
       "      <td>Idoso</td>\n",
       "      <td>18</td>\n",
       "      <td>0</td>\n",
       "    </tr>\n",
       "    <tr>\n",
       "      <th>2</th>\n",
       "      <td>10476</td>\n",
       "      <td>1958</td>\n",
       "      <td>Graduation</td>\n",
       "      <td>Married</td>\n",
       "      <td>67267.0</td>\n",
       "      <td>0</td>\n",
       "      <td>1</td>\n",
       "      <td>2014-05-13</td>\n",
       "      <td>0</td>\n",
       "      <td>134</td>\n",
       "      <td>11</td>\n",
       "      <td>59</td>\n",
       "      <td>15</td>\n",
       "      <td>2</td>\n",
       "      <td>...</td>\n",
       "      <td>5</td>\n",
       "      <td>2</td>\n",
       "      <td>0</td>\n",
       "      <td>0</td>\n",
       "      <td>0</td>\n",
       "      <td>0</td>\n",
       "      <td>0</td>\n",
       "      <td>0</td>\n",
       "      <td>0</td>\n",
       "      <td>US</td>\n",
       "      <td>56</td>\n",
       "      <td>Idoso</td>\n",
       "      <td>11</td>\n",
       "      <td>1</td>\n",
       "    </tr>\n",
       "    <tr>\n",
       "      <th>3</th>\n",
       "      <td>1386</td>\n",
       "      <td>1967</td>\n",
       "      <td>Graduation</td>\n",
       "      <td>Together</td>\n",
       "      <td>32474.0</td>\n",
       "      <td>1</td>\n",
       "      <td>1</td>\n",
       "      <td>2014-05-11</td>\n",
       "      <td>0</td>\n",
       "      <td>10</td>\n",
       "      <td>0</td>\n",
       "      <td>1</td>\n",
       "      <td>0</td>\n",
       "      <td>0</td>\n",
       "      <td>...</td>\n",
       "      <td>2</td>\n",
       "      <td>7</td>\n",
       "      <td>0</td>\n",
       "      <td>0</td>\n",
       "      <td>0</td>\n",
       "      <td>0</td>\n",
       "      <td>0</td>\n",
       "      <td>0</td>\n",
       "      <td>0</td>\n",
       "      <td>AUS</td>\n",
       "      <td>47</td>\n",
       "      <td>Adulto</td>\n",
       "      <td>4</td>\n",
       "      <td>2</td>\n",
       "    </tr>\n",
       "    <tr>\n",
       "      <th>4</th>\n",
       "      <td>5371</td>\n",
       "      <td>1989</td>\n",
       "      <td>Graduation</td>\n",
       "      <td>Single</td>\n",
       "      <td>21474.0</td>\n",
       "      <td>1</td>\n",
       "      <td>0</td>\n",
       "      <td>2014-04-08</td>\n",
       "      <td>0</td>\n",
       "      <td>6</td>\n",
       "      <td>16</td>\n",
       "      <td>24</td>\n",
       "      <td>11</td>\n",
       "      <td>0</td>\n",
       "      <td>...</td>\n",
       "      <td>2</td>\n",
       "      <td>7</td>\n",
       "      <td>1</td>\n",
       "      <td>0</td>\n",
       "      <td>0</td>\n",
       "      <td>0</td>\n",
       "      <td>0</td>\n",
       "      <td>1</td>\n",
       "      <td>0</td>\n",
       "      <td>SP</td>\n",
       "      <td>25</td>\n",
       "      <td>Jovem</td>\n",
       "      <td>8</td>\n",
       "      <td>1</td>\n",
       "    </tr>\n",
       "  </tbody>\n",
       "</table>\n",
       "<p>5 rows × 32 columns</p>\n",
       "</div>"
      ],
      "text/plain": [
       "      ID  Year_Birth   Education Marital_Status   Income  Kidhome  Teenhome  \\\n",
       "0   1826        1970  Graduation       Divorced  84835.0        0         0   \n",
       "1      1        1961  Graduation         Single  57091.0        0         0   \n",
       "2  10476        1958  Graduation        Married  67267.0        0         1   \n",
       "3   1386        1967  Graduation       Together  32474.0        1         1   \n",
       "4   5371        1989  Graduation         Single  21474.0        1         0   \n",
       "\n",
       "  Dt_Customer  Recency  MntWines  MntFruits  MntMeatProducts  MntFishProducts  \\\n",
       "0  2014-06-16        0       189        104              379              111   \n",
       "1  2014-06-15        0       464          5               64                7   \n",
       "2  2014-05-13        0       134         11               59               15   \n",
       "3  2014-05-11        0        10          0                1                0   \n",
       "4  2014-04-08        0         6         16               24               11   \n",
       "\n",
       "   MntSweetProducts  ...  NumStorePurchases  NumWebVisitsMonth  AcceptedCmp3  \\\n",
       "0               189  ...                  6                  1             0   \n",
       "1                 0  ...                  7                  5             0   \n",
       "2                 2  ...                  5                  2             0   \n",
       "3                 0  ...                  2                  7             0   \n",
       "4                 0  ...                  2                  7             1   \n",
       "\n",
       "   AcceptedCmp4  AcceptedCmp5  AcceptedCmp1  AcceptedCmp2  Response  Complain  \\\n",
       "0             0             0             0             0         1         0   \n",
       "1             0             0             0             1         1         0   \n",
       "2             0             0             0             0         0         0   \n",
       "3             0             0             0             0         0         0   \n",
       "4             0             0             0             0         1         0   \n",
       "\n",
       "   Country  Customer_age  Grupo_Etario_Clientes  Total_Purchases Children  \n",
       "0       SP            44                 Adulto               15        0  \n",
       "1       CA            53                  Idoso               18        0  \n",
       "2       US            56                  Idoso               11        1  \n",
       "3      AUS            47                 Adulto                4        2  \n",
       "4       SP            25                  Jovem                8        1  \n",
       "\n",
       "[5 rows x 32 columns]"
      ]
     },
     "execution_count": 15,
     "metadata": {},
     "output_type": "execute_result"
    }
   ],
   "source": [
    "df.head()"
   ]
  },
  {
   "cell_type": "markdown",
   "metadata": {},
   "source": [
    "> ### Dataviz 44 - Gráfico de barras com a relação entre income (salário) e país com base no grupo etário"
   ]
  },
  {
   "cell_type": "code",
   "execution_count": 16,
   "metadata": {},
   "outputs": [
    {
     "data": {
      "text/plain": [
       "Text(0, 0.5, 'Salário')"
      ]
     },
     "execution_count": 16,
     "metadata": {},
     "output_type": "execute_result"
    },
    {
     "data": {
      "image/png": "[encoded data removed]",
      "text/plain": [
       "<Figure size 1152x864 with 1 Axes>"
      ]
     },
     "metadata": {
      "needs_background": "light"
     },
     "output_type": "display_data"
    }
   ],
   "source": [
    "# Dataviz 44\n",
    "plt.figure(figsize = (16,12))\n",
    "\n",
    "sns.barplot(x = 'Country', \n",
    "            y = 'Income', \n",
    "            hue = 'Grupo_Etario_Clientes', \n",
    "            data = df, \n",
    "            estimator = np.mean, \n",
    "            palette = 'autumn')\n",
    "\n",
    "plt.title('Salário x País', fontsize = 18)\n",
    "plt.xlabel('País', fontsize  = 12)\n",
    "plt.ylabel('Salário', fontsize = 12)"
   ]
  },
  {
   "cell_type": "markdown",
   "metadata": {},
   "source": [
    "> ### Dataviz 45 - Boxplot com a distribuição da variável de total de compras com base na idade"
   ]
  },
  {
   "cell_type": "code",
   "execution_count": 17,
   "metadata": {},
   "outputs": [
    {
     "data": {
      "text/plain": [
       "Text(0, 0.5, 'Total de Compras')"
      ]
     },
     "execution_count": 17,
     "metadata": {},
     "output_type": "execute_result"
    },
    {
     "data": {
      "image/png": "[encoded data removed]",
      "text/plain": [
       "<Figure size 864x648 with 1 Axes>"
      ]
     },
     "metadata": {
      "needs_background": "light"
     },
     "output_type": "display_data"
    }
   ],
   "source": [
    "# Dataviz 45\n",
    "plt.figure(figsize = (12,9))\n",
    "sns.boxplot(x = 'Grupo_Etario_Clientes', y = 'Total_Purchases', data = df, palette = 'autumn')\n",
    "plt.title('Distribuição do Total de Compras Pela Idade', fontsize = 18)\n",
    "plt.xlabel('Grupo Etário', fontsize = 12)\n",
    "plt.ylabel('Total de Compras', fontsize = 12)"
   ]
  },
  {
   "cell_type": "markdown",
   "metadata": {},
   "source": [
    "> ### Dataviz 46 - Boxplot com a distribuição da variável de total de compras com base no país"
   ]
  },
  {
   "cell_type": "code",
   "execution_count": 18,
   "metadata": {},
   "outputs": [
    {
     "data": {
      "text/plain": [
       "Text(0, 0.5, 'Total de Compras')"
      ]
     },
     "execution_count": 18,
     "metadata": {},
     "output_type": "execute_result"
    },
    {
     "data": {
      "image/png": "[encoded data removed]",
      "text/plain": [
       "<Figure size 864x648 with 1 Axes>"
      ]
     },
     "metadata": {
      "needs_background": "light"
     },
     "output_type": "display_data"
    }
   ],
   "source": [
    "# Dataviz 46\n",
    "plt.figure(figsize = (12,9))\n",
    "sns.boxplot(x = 'Country', y = 'Total_Purchases', data = df, palette = 'Blues_r')\n",
    "plt.title('Total de Compras com Base no País', fontsize = 18)\n",
    "plt.xlabel('País', fontsize = 12)\n",
    "plt.ylabel('Total de Compras', fontsize = 12)"
   ]
  },
  {
   "cell_type": "markdown",
   "metadata": {},
   "source": [
    "> ### Dataviz 47 - Stackedbar (Gráfico de barras empilhadas) com a relação entre número de crianças em casa e número de produtos comprados, com a legenda contendo o tipo de produto"
   ]
  },
  {
   "cell_type": "code",
   "execution_count": 19,
   "metadata": {},
   "outputs": [
    {
     "data": {
      "text/plain": [
       "([<matplotlib.axis.XTick at 0x24475c13490>,\n",
       "  <matplotlib.axis.XTick at 0x24475c13460>,\n",
       "  <matplotlib.axis.XTick at 0x24475bd8f40>,\n",
       "  <matplotlib.axis.XTick at 0x2447ebc1580>],\n",
       " [Text(0, 0, ''), Text(0, 0, ''), Text(0, 0, ''), Text(0, 0, '')])"
      ]
     },
     "execution_count": 19,
     "metadata": {},
     "output_type": "execute_result"
    },
    {
     "data": {
      "image/png": "[encoded data removed]",
      "text/plain": [
       "<Figure size 1152x504 with 1 Axes>"
      ]
     },
     "metadata": {
      "needs_background": "light"
     },
     "output_type": "display_data"
    }
   ],
   "source": [
    "# Dataviz 47\n",
    "plt.figure(figsize = (16,7))\n",
    "\n",
    "products = ['MntWines', \n",
    "            'MntFruits',\n",
    "            'MntMeatProducts', \n",
    "            'MntFishProducts', \n",
    "            'MntSweetProducts',\n",
    "            'MntGoldProds']\n",
    "\n",
    "color = ['purple', 'green', 'gold', 'blue', 'red', 'brown']\n",
    "\n",
    "for i, p, c in zip(range(1,len(products)+1), products, color):\n",
    "    \n",
    "    if i != 6:\n",
    "        bottom = df[products[i]]\n",
    "        plt.bar(x = df['Children'], height = df[p], color = c, bottom = bottom)\n",
    "    else:\n",
    "        plt.bar(x = df['Children'], height = df[p], color = c)\n",
    "        \n",
    "plt.xlabel('Crianças em Casa')\n",
    "plt.ylabel('Número de Produtos Comprados')\n",
    "plt.title('Número de Produtos Comprados x Crianças em Casa', fontsize = 15)\n",
    "\n",
    "plt.legend([p.replace('Mnt','').replace('Products','') for p in products])\n",
    "plt.xticks(df['Children'].unique())"
   ]
  },
  {
   "cell_type": "markdown",
   "metadata": {},
   "source": [
    "> ### Dataviz 48 - Subplots com gráficos de barras mostrando a relação entre número de crianças em casa e o número de produtos comprados. Cada subplot representa um tipo de produto."
   ]
  },
  {
   "cell_type": "code",
   "execution_count": 20,
   "metadata": {},
   "outputs": [
    {
     "data": {
      "image/png": "[encoded data removed]",
      "text/plain": [
       "<Figure size 1224x576 with 6 Axes>"
      ]
     },
     "metadata": {
      "needs_background": "light"
     },
     "output_type": "display_data"
    }
   ],
   "source": [
    "# Dataviz 48\n",
    "products = ['MntWines', \n",
    "            'MntFruits',\n",
    "            'MntMeatProducts', \n",
    "            'MntFishProducts', \n",
    "            'MntSweetProducts',\n",
    "            'MntGoldProds']\n",
    "\n",
    "row, col = 2, 3\n",
    "p = 0\n",
    "\n",
    "fig, ax = plt.subplots(row, col, figsize = (17,8))\n",
    "\n",
    "for i in range(row):\n",
    "    for j in range(col):\n",
    "        plot = sns.barplot(x = df['Children'], y = df[products[p]], palette = 'rainbow', ax = ax[i,j])\n",
    "        plot.set_title('Produto: ' + products[p].replace('Mnt',''))\n",
    "        p += 1\n",
    "        \n",
    "fig.tight_layout()"
   ]
  },
  {
   "cell_type": "markdown",
   "metadata": {},
   "source": [
    "> ### Dataviz 49 - Stackedbar (Gráfico de barras empilhadas) com a relação estado civil e o número de produtos comprados, com a legenda contendo o tipo de produto"
   ]
  },
  {
   "cell_type": "code",
   "execution_count": 21,
   "metadata": {},
   "outputs": [
    {
     "data": {
      "text/plain": [
       "([<matplotlib.axis.XTick at 0x24400325e50>,\n",
       "  <matplotlib.axis.XTick at 0x24400325e20>,\n",
       "  <matplotlib.axis.XTick at 0x24400325b20>,\n",
       "  <matplotlib.axis.XTick at 0x24409155760>,\n",
       "  <matplotlib.axis.XTick at 0x24409155730>,\n",
       "  <matplotlib.axis.XTick at 0x2440915b370>,\n",
       "  <matplotlib.axis.XTick at 0x2440915bac0>,\n",
       "  <matplotlib.axis.XTick at 0x24409163250>],\n",
       " [Text(0, 0, ''),\n",
       "  Text(0, 0, ''),\n",
       "  Text(0, 0, ''),\n",
       "  Text(0, 0, ''),\n",
       "  Text(0, 0, ''),\n",
       "  Text(0, 0, ''),\n",
       "  Text(0, 0, ''),\n",
       "  Text(0, 0, '')])"
      ]
     },
     "execution_count": 21,
     "metadata": {},
     "output_type": "execute_result"
    },
    {
     "data": {
      "image/png": "[encoded data removed]",
      "text/plain": [
       "<Figure size 1152x504 with 1 Axes>"
      ]
     },
     "metadata": {
      "needs_background": "light"
     },
     "output_type": "display_data"
    }
   ],
   "source": [
    "# Dataviz 49\n",
    "plt.figure(figsize = (16,7))\n",
    "\n",
    "products = ['MntWines', \n",
    "            'MntFruits',\n",
    "            'MntMeatProducts', \n",
    "            'MntFishProducts', \n",
    "            'MntSweetProducts',\n",
    "            'MntGoldProds']\n",
    "\n",
    "color = ['purple','green','gold','blue','red','brown']\n",
    "\n",
    "for i, p, c in zip(range(1, len(products)+1), products, color):\n",
    "    \n",
    "    if i != 6:\n",
    "        bottom = df[products[i]]\n",
    "        plt.bar(x = df['Marital_Status'], height = df[p], color = c, bottom = bottom)\n",
    "    else:\n",
    "        plt.bar(x = df['Marital_Status'], height = df[p], color = c)\n",
    "        \n",
    "plt.xlabel('Estado Civil')\n",
    "plt.ylabel('Número de Produtos Comprados')\n",
    "plt.title('Número de Produtos Comprados x Estado Civil', fontsize = 15)\n",
    "\n",
    "plt.legend([p.replace('Mnt','').replace('Products','').replace('Prods','') for p in products])\n",
    "plt.xticks(df['Marital_Status'].unique())"
   ]
  },
  {
   "cell_type": "markdown",
   "metadata": {},
   "source": [
    "> ### Dataviz 50 - Subplots com gráficos de barras mostrando a relação entre estado civil e o número de produtos comprados. Cada subplot representa um tipo de produto."
   ]
  },
  {
   "cell_type": "code",
   "execution_count": 22,
   "metadata": {},
   "outputs": [
    {
     "data": {
      "image/png": "[encoded data removed]",
      "text/plain": [
       "<Figure size 1224x576 with 6 Axes>"
      ]
     },
     "metadata": {
      "needs_background": "light"
     },
     "output_type": "display_data"
    }
   ],
   "source": [
    "# Dataviz 50\n",
    "products = ['MntWines', \n",
    "            'MntFruits',\n",
    "            'MntMeatProducts', \n",
    "            'MntFishProducts', \n",
    "            'MntSweetProducts',\n",
    "            'MntGoldProds']\n",
    "\n",
    "row, col = 2, 3\n",
    "p = 0\n",
    "\n",
    "fig, ax = plt.subplots(row, col, figsize = (17,8))\n",
    "\n",
    "for i in range(row):\n",
    "    for j in range(col):\n",
    "        plot = sns.barplot(x = df['Marital_Status'], y = df[products[p]], palette = 'rainbow', ax = ax[i,j])\n",
    "        plot.set_title('Produto: ' + products[p].replace('Mnt',''), fontsize = 15)\n",
    "        p += 1\n",
    "        \n",
    "fig.tight_layout()"
   ]
  },
  {
   "cell_type": "markdown",
   "metadata": {},
   "source": [
    "# Fim"
   ]
  }
 ],
 "metadata": {
  "kernelspec": {
   "display_name": "Python 3 (ipykernel)",
   "language": "python",
   "name": "python3"
  },
  "language_info": {
   "codemirror_mode": {
    "name": "ipython",
    "version": 3
   },
   "file_extension": ".py",
   "mimetype": "text/x-python",
   "name": "python",
   "nbconvert_exporter": "python",
   "pygments_lexer": "ipython3",
   "version": "3.9.7"
  }
 },
 "nbformat": 4,
 "nbformat_minor": 2
}
